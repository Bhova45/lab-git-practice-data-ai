{
  "nbformat": 4,
  "nbformat_minor": 0,
  "metadata": {
    "colab": {
      "provenance": [],
      "include_colab_link": true
    },
    "kernelspec": {
      "name": "python3",
      "display_name": "Python 3"
    },
    "language_info": {
      "name": "python"
    }
  },
  "cells": [
    {
      "cell_type": "markdown",
      "metadata": {
        "id": "view-in-github",
        "colab_type": "text"
      },
      "source": [
        "<a href=\"https://colab.research.google.com/github/Bhova45/lab-git-practice-data-ai/blob/main/Project_01.ipynb\" target=\"_parent\"><img src=\"https://colab.research.google.com/assets/colab-badge.svg\" alt=\"Open In Colab\"/></a>"
      ]
    },
    {
      "cell_type": "markdown",
      "source": [
        "# QUEST: ESCAPE ROOM - MINI PROJECT\n",
        "### IRONHACK DATA BOOTCAMP\n",
        "\n",
        "Welcome to escape room quest\n",
        "\n",
        "You wake up in a couch in a misteryous house with locked doors.\n",
        "Your mission: Find the keys, unlock each room, and escape to freedom!\n",
        "\n",
        "In this notebook we start by building the data structures that define the game world, wich are: rooms, objects, keys and doors.\n",
        "\n",
        "# DAY 1\n",
        "\n",
        "## Objectives\n",
        "\n",
        "### Today's goal is to create lists and dictionarys that will serve us the foundation of this base game.\n",
        "\n",
        "### We will:\n",
        "###   - Define all rooms and their contents (Doors, furnitures and keys)\n",
        "###   - Create global list for actions and inventory\n",
        "###   - Organize the data clearer so it can be used by functions in the next steps\n",
        "\n",
        "# ------------------------------------------------------\n",
        "\n",
        "\n",
        "# QUEST:  ESCAPE ROOM - DATA STRUCTURES\n",
        "## Ironhack data bootcamp | Dev Team - Day 1\n",
        "# ------------------------------------------------------\n",
        "\n",
        "\n",
        "\n",
        "# This section defines all dictionarys and lists\n",
        "# Used to model the Escape Room game world\n",
        "\n",
        "# ------------------------------------------------------\n",
        "# ------------------------------------------------------\n"
      ],
      "metadata": {
        "id": "SHcf1oE4dt3m"
      }
    },
    {
      "cell_type": "code",
      "source": [
        "# Dictionary: Space\n",
        "# Each key in this dictionary represents a room; each value is a list of objects, doors and keys\n",
        "\n",
        "Space = {\n",
        "    \"Game Room\": ['couch', 'piano', 'door A', 'key to door A'],\n",
        "    \"Bedroom 1\": ['queen bed', 'door A', 'door B', 'door C', 'key to door B'],\n",
        "    \"Bedroom 2\": ['double bed', 'door B', 'dresser', 'key to door D', 'Key to door C'],\n",
        "    \"Living Room\": [\"dining table\", 'door C', 'door D'],\n",
        "    \"Outside\": [\"Freedom\"]\n",
        "}\n",
        "\n",
        "# List: Actions available to the player\n",
        "\n",
        "Actions = ['explore', 'examine', 'take the key', 'unlock the door', 'enter the room']\n",
        "\n",
        "# List: Inventory of the aquired keys to unlock the doors\n",
        "\n",
        "Inventory = []\n",
        "\n",
        "# List: Furniture list for all the items to be examined in order to find the keys\n",
        "\n",
        "Examine Furniture = ['examine couch', 'examine piano', 'examine queen bed', 'examine double bed', 'examine dresser', 'examine dining table']\n",
        "\n",
        "# Dictionary: Game State\n",
        "# Keeps track of where the player is, what keys they have, and which doors are unlocked.\n",
        "\n",
        "Game State = {\n",
        "    \"current_room\": \"Game Room\",\n",
        "    \"inventory\"\n",
        "}"
      ],
      "metadata": {
        "id": "1fjLZrUrkm2n"
      },
      "execution_count": null,
      "outputs": []
    },
    {
      "cell_type": "code",
      "source": [],
      "metadata": {
        "id": "Dk2ZVlyTpy-W"
      },
      "execution_count": null,
      "outputs": []
    },
    {
      "cell_type": "markdown",
      "source": [],
      "metadata": {
        "id": "fCdgacm-iM6M"
      }
    },
    {
      "cell_type": "code",
      "source": [],
      "metadata": {
        "id": "iWY_b5A_plZK"
      },
      "execution_count": null,
      "outputs": []
    },
    {
      "cell_type": "markdown",
      "source": [],
      "metadata": {
        "id": "u6s0QHXViNYN"
      }
    },
    {
      "cell_type": "markdown",
      "source": [],
      "metadata": {
        "id": "G7ol7-M_iNQ7"
      }
    },
    {
      "cell_type": "code",
      "source": [
        "DO NOT DELETE"
      ],
      "metadata": {
        "id": "MK3xfhNfiEHD",
        "colab": {
          "base_uri": "https://localhost:8080/",
          "height": 106
        },
        "outputId": "ea9779f5-9ae8-4f50-eeed-2b13cd693fa6"
      },
      "execution_count": null,
      "outputs": [
        {
          "output_type": "error",
          "ename": "SyntaxError",
          "evalue": "invalid syntax (ipython-input-2503878181.py, line 1)",
          "traceback": [
            "\u001b[0;36m  File \u001b[0;32m\"/tmp/ipython-input-2503878181.py\"\u001b[0;36m, line \u001b[0;32m1\u001b[0m\n\u001b[0;31m    DO NOT DELETE\u001b[0m\n\u001b[0m       ^\u001b[0m\n\u001b[0;31mSyntaxError\u001b[0m\u001b[0;31m:\u001b[0m invalid syntax\n"
          ]
        }
      ]
    }
  ]
}